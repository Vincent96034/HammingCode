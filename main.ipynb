{
 "cells": [
  {
   "cell_type": "code",
   "execution_count": 3,
   "metadata": {},
   "outputs": [],
   "source": [
    "import numpy as np\n",
    "\n",
    "from hamming import HammingCode, BitError\n",
    "from models import BinaryMessage\n",
    "from transmission import (\n",
    "    str2bit,\n",
    "    bit2str,\n",
    "    pad_last_chunk,\n",
    "    list_to_chunks,\n",
    "    chunks_to_list,\n",
    "    generate_single_bit_error,\n",
    "    generate_multi_bit_error\n",
    ")"
   ]
  },
  {
   "cell_type": "markdown",
   "metadata": {},
   "source": [
    "# Hamming's Code\n",
    "\n",
    "As part of this question, you are going to use linear error-correcting codes invented by Richard W. Hamming in 1950 to detect errors [1, p.211], [2]. Hamming invented these linear error-correcting codes to detect up to two-bit errors or one-bit errors without detection of uncorrected errors [3]. The linear error-correcting code that encodes four bits of data into seven bits by adding three parity bits. Hamming’s (7,4) algorithm [3] can either correct any single-bit error, or detect all single-bit and two-bit errors as further described in [3]. Error-correcting codes are widely adopted in many kinds of transmission (including WiFi, cell phones, communication with satellites and spacecraft, and digital television) and storage (RAM, disk drives, flash memory, CDs, etc.) [1, p.211].\n",
    "\n",
    "Hamming discovered a code in which a four-bit message is transformed into a seven-bit codeword. The generator matrix (G), parity-check matrix (H) discovered by Hamming is shown in fig. 2 and the Hamming’s Decoder Matrix (R) as shown in fig. 3. An encoding of a 4-bit binary value (word) \\( w \\) is a 7-bit vector i.e. the codeword resulting from a matrix-vector product $ c_w = G * w $ [3]."
   ]
  },
  {
   "cell_type": "markdown",
   "metadata": {},
   "source": [
    "1. Write a simple Hamming encoder program in Python, which, when given a 4-bit binary value, returns the resulting 7-bit binary vector codeword. Also implement the parity check functionality to see if there are any errors, that is to check whether $ H * c_w = \\vec{0} $ holds, where \\( \\vec{0} \\) is zero vector.\n"
   ]
  },
  {
   "cell_type": "code",
   "execution_count": 71,
   "metadata": {},
   "outputs": [
    {
     "name": "stdout",
     "output_type": "stream",
     "text": [
      "[1 0 1 1]\n",
      "[1 0 1 1 0 1 0]\n",
      "[1 0 1 1 0 1 0]\n"
     ]
    }
   ],
   "source": [
    "h = HammingCode(message_bits=4, mode=\"detect\")  # 4 bit message\n",
    "\n",
    "message = np.array([1, 0, 1, 1])\n",
    "codeword = h.encode(message)\n",
    "\n",
    "print(message)\n",
    "print(codeword)\n",
    "\n",
    "# check for errors and correct them if possible‚:\n",
    "codeword = h.check_correct(codeword)\n",
    "print(codeword)"
   ]
  },
  {
   "cell_type": "markdown",
   "metadata": {},
   "source": [
    "2. Create a decoder program in Python, which, when given a 7-bit vector codeword, returns the original 4-bit vector word. That is, if we are given a 4-bit word \\( w \\), and we apply our encoder to return a codeword $ c_w = G * w $, and then we apply the decoder matrix (R) (fig. 3) to $ c_w $, then it should return the original word, such that $ R * c_w = w $."
   ]
  },
  {
   "cell_type": "code",
   "execution_count": 72,
   "metadata": {},
   "outputs": [
    {
     "name": "stdout",
     "output_type": "stream",
     "text": [
      "[1 0 1 1]\n"
     ]
    }
   ],
   "source": [
    "message_recovered = h.decode(codeword)\n",
    "print(message_recovered)\n",
    "\n",
    "assert np.array_equal(message, message_recovered)"
   ]
  },
  {
   "cell_type": "markdown",
   "metadata": {},
   "source": [
    "3. Test your code by creating a few 4-bit vectors and running encode and then decode to check if you end up with the original 4-bit vector. Also, test your code with some errors and see if the parity check can identify the errors if so, to what extent."
   ]
  },
  {
   "cell_type": "code",
   "execution_count": 81,
   "metadata": {},
   "outputs": [
    {
     "name": "stdout",
     "output_type": "stream",
     "text": [
      "Message:      [1 1 0 1]\n",
      "Codeword:     [1 1 0 1 0 0 1]\n",
      "Transmitted:  [1 1 1 1 0 0 1]\n",
      "Recovered:    [1 1 0 1]\n",
      "____________________________________\n",
      "Message:      [0 1 0 1]\n",
      "Codeword:     [0 1 0 1 0 1 0]\n",
      "Transmitted:  [0 1 1 1 0 1 0]\n",
      "Recovered:    [0 1 0 1]\n",
      "____________________________________\n",
      "Message:      [0 0 0 0]\n",
      "Codeword:     [0 0 0 0 0 0 0]\n",
      "Transmitted:  [0 0 0 0 1 0 0]\n",
      "Recovered:    [0 0 0 0]\n",
      "____________________________________\n",
      "Message:      [0 1 1 1]\n",
      "Codeword:     [0 1 1 1 1 0 0]\n",
      "Transmitted:  [0 1 1 0 1 0 0]\n",
      "Recovered:    [0 1 1 1]\n",
      "____________________________________\n",
      "Message:      [1 1 1 1]\n",
      "Codeword:     [1 1 1 1 1 1 1]\n",
      "Transmitted:  [0 1 1 1 1 1 1]\n",
      "Recovered:    [1 1 1 1]\n",
      "____________________________________\n"
     ]
    }
   ],
   "source": [
    "# 1-bit errors can be detected and corrected\n",
    "h = HammingCode(message_bits=4, mode=\"correct\")\n",
    "n_tests = 5\n",
    "\n",
    "for i in range(n_tests):\n",
    "    # generate random message\n",
    "    message = np.random.randint(0, 2, 4)\n",
    "    codeword = h.encode(message)\n",
    "    print(\"Message:     \", message)\n",
    "    print(\"Codeword:    \", codeword)\n",
    "\n",
    "    # similuate transmission errors: only one bit is flipped\n",
    "    codeword_transmitted = h.simulate_1bit_flip(codeword)\n",
    "    print(\"Transmitted: \", codeword_transmitted)\n",
    "\n",
    "    # check for errors and correct them if possible\n",
    "    codeword_checked = h.check_correct(codeword_transmitted)\n",
    "    message_recovered = h.decode(codeword_checked)\n",
    "    print(\"Recovered:   \", message_recovered)\n",
    "    print(\"_\" * 36)\n",
    "    assert np.array_equal(message, message_recovered)"
   ]
  },
  {
   "cell_type": "code",
   "execution_count": 7,
   "metadata": {},
   "outputs": [
    {
     "name": "stdout",
     "output_type": "stream",
     "text": [
      "Message:      [0 1 0 0]\n",
      "Codeword:     [0 1 0 0 1 0 1]\n",
      "Transmitted:  [0 1 0 0 1 0 1]\n",
      "Number of errors: 0\n",
      "No errors detected.\n",
      "____________________________________\n",
      "Message:      [1 1 0 1]\n",
      "Codeword:     [1 1 0 1 0 0 1]\n",
      "Transmitted:  [1 1 1 1 1 0 1]\n",
      "Number of errors: 2\n",
      "Error detected: 1- or 2-bit errors detected! Cannot correct in mode `detect`.\n",
      "____________________________________\n",
      "Message:      [0 1 0 1]\n",
      "Codeword:     [0 1 0 1 0 1 0]\n",
      "Transmitted:  [0 1 0 1 0 0 1]\n",
      "Number of errors: 2\n",
      "Error detected: 1- or 2-bit errors detected! Cannot correct in mode `detect`.\n",
      "____________________________________\n",
      "Message:      [1 1 0 0]\n",
      "Codeword:     [1 1 0 0 1 1 0]\n",
      "Transmitted:  [1 1 0 1 1 1 0]\n",
      "Number of errors: 1\n",
      "Error detected: 1- or 2-bit errors detected! Cannot correct in mode `detect`.\n",
      "____________________________________\n",
      "Message:      [0 1 1 1]\n",
      "Codeword:     [0 1 1 1 1 0 0]\n",
      "Transmitted:  [0 1 1 1 1 0 0]\n",
      "Number of errors: 0\n",
      "No errors detected.\n",
      "____________________________________\n"
     ]
    }
   ],
   "source": [
    "# 1- or 2-bit errors can be detected, but NOT corrected\n",
    "h = HammingCode(message_bits=4, mode=\"detect\")  # <- mode changed\n",
    "n_tests = 5\n",
    "\n",
    "for i in range(n_tests):\n",
    "    # generate random message\n",
    "    message = np.random.randint(0, 2, 4)\n",
    "    codeword = h.encode(message)\n",
    "    print(\"Message:     \", message)\n",
    "    print(\"Codeword:    \", codeword)\n",
    "\n",
    "    # similuate transmission errors: 0, 1 or 2 bits are flipped\n",
    "    n_errors = np.random.randint(0, 3)\n",
    "    if n_errors == 1:\n",
    "        codeword_transmitted = h.simulate_1bit_flip(codeword)\n",
    "    elif n_errors == 2:\n",
    "        codeword_transmitted = h.simulate_2bit_flip(codeword)\n",
    "    else:\n",
    "        codeword_transmitted = codeword\n",
    "    print(\"Transmitted: \", codeword_transmitted)\n",
    "\n",
    "    # check for errors. If errors are detected, an exception is raised\n",
    "    print(f\"Number of errors: {n_errors}\")\n",
    "    try:\n",
    "        codeword_checked = h.check_correct(codeword_transmitted)\n",
    "        print(\"No errors detected.\")\n",
    "    except BitError as e:\n",
    "        print(f\"Error detected: {e}\")\n",
    "    print(\"_\" * 36)"
   ]
  },
  {
   "cell_type": "markdown",
   "metadata": {},
   "source": [
    "# Use-Case: Transmission over Noisy Channel"
   ]
  },
  {
   "cell_type": "markdown",
   "metadata": {},
   "source": [
    "### Assumption: only 1-bit errors possible"
   ]
  },
  {
   "cell_type": "code",
   "execution_count": 94,
   "metadata": {},
   "outputs": [],
   "source": [
    "# Set a message to transmit.\n",
    "message = \"Hello World! I will transmit this message now. I hope it will arrive correctly.\"\n",
    "\n",
    "# Activate hamming protection or not. If activated, the message will be encoded and\n",
    "# corrected using hamming codes. If deactivated, the message will be transmitted as is\n",
    "# and will likely contain errors.\n",
    "hamming_protection = False\n",
    "\n",
    "# Set the length of the packages. The message will be split into packages of this length.\n",
    "# A usual length is 8. A shorter length protects the message to a higher degree, but also\n",
    "# increases the overhead.\n",
    "message_length = 8\n",
    "\n",
    "# Set the probability of a bit flip. If hamming protection is activated, the probability\n",
    "# is not relevant, since the hamming code can correct single bit flips.\n",
    "# Note: we assume that there is no more than one bit flip per package.\n",
    "error_probability = 0.1"
   ]
  },
  {
   "cell_type": "code",
   "execution_count": 161,
   "metadata": {},
   "outputs": [
    {
     "name": "stdout",
     "output_type": "stream",
     "text": [
      "Message:      Hello World! I will transmit this message now. I hope it will arrive correctly.\n",
      "Nb Errors:    2\n",
      "Transmitted:  Hello World! I will transmit this message now. I hope it will arrive correctly.\n"
     ]
    }
   ],
   "source": [
    "print(\"Message:      \" + message)\n",
    "message_encoded = str2bit(message)\n",
    "binary_list, padding_needed = pad_last_chunk(message_encoded, message_length)\n",
    "message_binary = list_to_chunks(binary_list, message_length)\n",
    "\n",
    "if hamming_protection:\n",
    "    h = HammingCode(message_length, mode=\"correct\")\n",
    "    message_binary_encoded = []\n",
    "    for row in message_binary:\n",
    "        message_binary_encoded.append(h.encode(np.array(row)))\n",
    "    message_binary = np.array(message_binary_encoded)\n",
    "\n",
    "# simulate noise\n",
    "error = generate_single_bit_error(BinaryMessage(message_binary), error_probability)\n",
    "packages_transmitted = (message_binary + error) % 2\n",
    "nb_errors = np.count_nonzero(error)\n",
    "print(\"Nb Errors:   \", nb_errors)\n",
    "\n",
    "if hamming_protection:\n",
    "    message_binary_decoded = []\n",
    "    for row in packages_transmitted:\n",
    "        corrected = h.check_correct(np.array(row))\n",
    "        message_binary_decoded.append(h.decode(corrected))\n",
    "    packages_transmitted = np.array(message_binary_decoded)\n",
    "message_flat = chunks_to_list(packages_transmitted)\n",
    "message_flat = message_flat[:(None if padding_needed == 0 else -padding_needed)]\n",
    "\n",
    "print(\"Transmitted: \", bit2str(message_flat))\n",
    "\n",
    "assert message == bit2str(message_flat), \"Message was not transmitted correctly!\""
   ]
  },
  {
   "cell_type": "markdown",
   "metadata": {},
   "source": [
    "### Multi bit errors"
   ]
  },
  {
   "cell_type": "code",
   "execution_count": 164,
   "metadata": {},
   "outputs": [],
   "source": [
    "# Set a message to transmit.\n",
    "message = \"Hello World! I will transmit this message now. I hope it will arrive correctly.\"\n",
    "\n",
    "# Activate hamming protection or not.\n",
    "hamming_protection = True\n",
    "\n",
    "# Set the length of the packages\n",
    "message_length = 4\n",
    "\n",
    "# Set the probability of a bit flip\n",
    "error_probability = 0.01\n",
    "\n",
    "# Now we dont assume that there is only one bit flip per package any more. Depending on\n",
    "# how probable errors are, we need to decide if we want to correct errors or only detect\n",
    "# them. If we want to correct errors, we might get incorrect messages, because we cannot\n",
    "# detect more than 1 bit errors. If we only want to detect errors, we can detect, but not\n",
    "# correct, up to 2-bit errors per package. Set mode to \"correct\" or \"detect\" accordingly.\n",
    "h = HammingCode(message_length, mode=\"correct\")\n",
    "\n",
    "\n",
    "# NOTE: in the above cenario, a good solution is reducing the package size. Using a\n",
    "# package size of 4, the probability of 2-bit errors per package is much lower. Using the\n",
    "# mode 'correct' in this case means that we will be able to transmit a correct message in\n",
    "# most cases. It will not promise that the message will be transmitted correctly, but it\n",
    "# is more likely. Just try it out :)\n",
    "\n",
    "# message_length = 4\n",
    "# h = HammingCode(message_length, mode=\"correct\")"
   ]
  },
  {
   "cell_type": "code",
   "execution_count": 171,
   "metadata": {},
   "outputs": [
    {
     "name": "stdout",
     "output_type": "stream",
     "text": [
      "Message:      Hello World! I will transmit this message now. I hope it will arrive correctly.\n",
      "Nb Errors:    13\n",
      "Transmitted:  Hello World! I will transmit this message now. I hope it will arrive correctly.\n"
     ]
    }
   ],
   "source": [
    "print(\"Message:      \" + message)\n",
    "message_encoded = str2bit(message)\n",
    "binary_list, padding_needed = pad_last_chunk(message_encoded, message_length)\n",
    "message_binary = list_to_chunks(binary_list, message_length)\n",
    "\n",
    "if hamming_protection:\n",
    "    message_binary_encoded = []\n",
    "    for row in message_binary:\n",
    "        message_binary_encoded.append(h.encode(np.array(row)))\n",
    "    message_binary = np.array(message_binary_encoded)\n",
    "\n",
    "# simulate noise\n",
    "error = generate_multi_bit_error(BinaryMessage(message_binary), error_probability)\n",
    "packages_transmitted = (message_binary + error) % 2\n",
    "nb_errors = np.count_nonzero(error)\n",
    "print(\"Nb Errors:   \", nb_errors)\n",
    "\n",
    "if hamming_protection:\n",
    "    message_binary_decoded = []\n",
    "    for row in packages_transmitted:\n",
    "        try:\n",
    "            corrected = h.check_correct(np.array(row))\n",
    "        except BitError as e:\n",
    "            print(f\"Error detected: {e}\")\n",
    "            corrected = row\n",
    "        message_binary_decoded.append(h.decode(corrected))\n",
    "    packages_transmitted = np.array(message_binary_decoded)\n",
    "message_flat = chunks_to_list(packages_transmitted)\n",
    "message_flat = message_flat[:(None if padding_needed == 0 else -padding_needed)]\n",
    "\n",
    "print(\"Transmitted: \", bit2str(message_flat))\n",
    "\n",
    "assert message == bit2str(message_flat), \"Message was not transmitted correctly!\""
   ]
  }
 ],
 "metadata": {
  "kernelspec": {
   "display_name": "ds_conda",
   "language": "python",
   "name": "python3"
  },
  "language_info": {
   "codemirror_mode": {
    "name": "ipython",
    "version": 3
   },
   "file_extension": ".py",
   "mimetype": "text/x-python",
   "name": "python",
   "nbconvert_exporter": "python",
   "pygments_lexer": "ipython3",
   "version": "3.10.6"
  },
  "orig_nbformat": 4
 },
 "nbformat": 4,
 "nbformat_minor": 2
}
