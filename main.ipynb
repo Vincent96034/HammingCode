{
 "cells": [
  {
   "cell_type": "code",
   "execution_count": 1,
   "metadata": {},
   "outputs": [],
   "source": [
    "# import necessary libraries and modules\n",
    "# Numpy is the only external library used\n",
    "\n",
    "import numpy as np\n",
    "\n",
    "from hamming import HammingCode, BitError\n",
    "from models import BinaryMessage\n",
    "from transmission import (\n",
    "    str2bit,\n",
    "    bit2str,\n",
    "    pad_last_chunk,\n",
    "    list_to_chunks,\n",
    "    chunks_to_list,\n",
    "    generate_single_bit_error,\n",
    "    generate_multi_bit_error\n",
    ")"
   ]
  },
  {
   "cell_type": "markdown",
   "metadata": {},
   "source": [
    "# Hamming's Code\n",
    "\n",
    "As part of this question, you are going to use linear error-correcting codes invented by Richard W. Hamming in 1950 to detect errors [1, p.211], [2]. Hamming invented these linear error-correcting codes to detect up to two-bit errors or one-bit errors without detection of uncorrected errors [3]. The linear error-correcting code that encodes four bits of data into seven bits by adding three parity bits. Hamming’s (7,4) algorithm [3] can either correct any single-bit error, or detect all single-bit and two-bit errors as further described in [3]. Error-correcting codes are widely adopted in many kinds of transmission (including WiFi, cell phones, communication with satellites and spacecraft, and digital television) and storage (RAM, disk drives, flash memory, CDs, etc.) [1, p.211].\n",
    "\n",
    "Hamming discovered a code in which a four-bit message is transformed into a seven-bit codeword. The generator matrix (G), parity-check matrix (H) discovered by Hamming is shown in fig. 2 and the Hamming’s Decoder Matrix (R) as shown in fig. 3. An encoding of a 4-bit binary value (word) \\( w \\) is a 7-bit vector i.e. the codeword resulting from a matrix-vector product $ c_w = G * w $ [3]."
   ]
  },
  {
   "cell_type": "markdown",
   "metadata": {},
   "source": [
    "## 1. Encode\n",
    "\n",
    " Write a simple Hamming encoder program in Python, which, when given a 4-bit binary value, returns the resulting 7-bit binary vector codeword. Also implement the parity check functionality to see if there are any errors, that is to check whether $ H * c_w = \\vec{0} $ holds, where \\( \\vec{0} \\) is zero vector.\n"
   ]
  },
  {
   "cell_type": "markdown",
   "metadata": {},
   "source": [
    "First we create an instance of the HammingCode class.\n",
    "\n",
    "This class holds all functionalities for encoding, decoding and detecting errors in a\n",
    "message. The class takes two arguments: message_bits and mode. With the parameter\n",
    "`message_bits` the user can specify the length of the message in bits. This parameter\n",
    "defaults to 4, but can be changed to any positive integer. The mode parameter specifies\n",
    "the mode of the Hamming code implementation. With `detect`, the hamming code only tries\n",
    "to detect, but not correct any errors in the message. With `correct`, the hamming code\n",
    "tries to also correct the errors if any are detected. This has some drawbacks, depicted\n",
    "later.\n",
    "The code-rate CR depicts the ratio of the message bits to the total number of bits. The\n",
    "higer the code-rate the more efficient is the code. This also has some drawbacks, which\n",
    "will be discussed later."
   ]
  },
  {
   "cell_type": "code",
   "execution_count": 2,
   "metadata": {},
   "outputs": [
    {
     "data": {
      "text/plain": [
       "(7,4)-HammingCode: CR=0.5714 (detect mode)"
      ]
     },
     "execution_count": 2,
     "metadata": {},
     "output_type": "execute_result"
    }
   ],
   "source": [
    "# Creating a hamming code object\n",
    "\n",
    "h = HammingCode(message_bits=4, mode=\"detect\")  # 4 bit message\n",
    "h"
   ]
  },
  {
   "cell_type": "markdown",
   "metadata": {},
   "source": [
    "Now we create a message to encode. The message needs to be a binary message of length 4."
   ]
  },
  {
   "cell_type": "code",
   "execution_count": 3,
   "metadata": {},
   "outputs": [
    {
     "data": {
      "text/plain": [
       "[1, 0, 1, 1]"
      ]
     },
     "execution_count": 3,
     "metadata": {},
     "output_type": "execute_result"
    }
   ],
   "source": [
    "message = [1, 0, 1, 1]\n",
    "message"
   ]
  },
  {
   "cell_type": "markdown",
   "metadata": {},
   "source": [
    "A TypeError is raised if the message does not fit the hamming code message length. In\n",
    "this step the message is also converted to a `BinaryMessage` object. `BinaryMessage` is a\n",
    "custom extension of the `numpy.ndarray` class. It is used to store binary messages. It \n",
    "checks the input for validity and raises a TypeError if the input is not binary.\n",
    "The `encode()` method of the hamming code class encodes the message and returns the\n",
    "codeword, by adding the parity bits to the message. A 4 bit message will be transformed into\n",
    "a 7 bit message."
   ]
  },
  {
   "cell_type": "code",
   "execution_count": 4,
   "metadata": {},
   "outputs": [
    {
     "ename": "ValueError",
     "evalue": "Array must contain only 0s and 1s",
     "output_type": "error",
     "traceback": [
      "\u001b[0;31m---------------------------------------------------------------------------\u001b[0m",
      "\u001b[0;31mValueError\u001b[0m                                Traceback (most recent call last)",
      "\u001b[1;32m/Users/vincenthaunberger/Documents/UNI/M.Sc Business Administration and Data Science/Semester 1/PROGRAMMING & LIN ALG/Final Assignment - Foundations/02_HammingCodes/main.ipynb Cell 9\u001b[0m line \u001b[0;36m<cell line: 2>\u001b[0;34m()\u001b[0m\n\u001b[1;32m      <a href='vscode-notebook-cell:/Users/vincenthaunberger/Documents/UNI/M.Sc%20Business%20Administration%20and%20Data%20Science/Semester%201/PROGRAMMING%20%26%20LIN%20ALG/Final%20Assignment%20-%20Foundations/02_HammingCodes/main.ipynb#X41sZmlsZQ%3D%3D?line=0'>1</a>\u001b[0m \u001b[39m# Encoding a non-valid message: not binary\u001b[39;00m\n\u001b[0;32m----> <a href='vscode-notebook-cell:/Users/vincenthaunberger/Documents/UNI/M.Sc%20Business%20Administration%20and%20Data%20Science/Semester%201/PROGRAMMING%20%26%20LIN%20ALG/Final%20Assignment%20-%20Foundations/02_HammingCodes/main.ipynb#X41sZmlsZQ%3D%3D?line=1'>2</a>\u001b[0m h\u001b[39m.\u001b[39;49mencode([\u001b[39m1\u001b[39;49m,\u001b[39m2\u001b[39;49m,\u001b[39m3\u001b[39;49m])\n",
      "File \u001b[0;32m~/Documents/UNI/M.Sc Business Administration and Data Science/Semester 1/PROGRAMMING & LIN ALG/Final Assignment - Foundations/02_HammingCodes/hamming.py:56\u001b[0m, in \u001b[0;36mHammingCode.encode\u001b[0;34m(self, message)\u001b[0m\n\u001b[1;32m     47\u001b[0m \u001b[39mdef\u001b[39;00m \u001b[39mencode\u001b[39m(\u001b[39mself\u001b[39m, message: BinaryMessage) \u001b[39m-\u001b[39m\u001b[39m>\u001b[39m BinaryMessage:\n\u001b[1;32m     48\u001b[0m     \u001b[39m\"\"\"Encodes the given message using Hamming code.\u001b[39;00m\n\u001b[1;32m     49\u001b[0m \n\u001b[1;32m     50\u001b[0m \u001b[39m    Args:\u001b[39;00m\n\u001b[0;32m   (...)\u001b[0m\n\u001b[1;32m     54\u001b[0m \u001b[39m        ndarray: The encoded codeword.\u001b[39;00m\n\u001b[1;32m     55\u001b[0m \u001b[39m    \"\"\"\u001b[39;00m\n\u001b[0;32m---> 56\u001b[0m     message \u001b[39m=\u001b[39m \u001b[39mself\u001b[39;49m\u001b[39m.\u001b[39;49m_validate_binary(message)\n\u001b[1;32m     57\u001b[0m     \u001b[39mif\u001b[39;00m message\u001b[39m.\u001b[39mshape[\u001b[39m0\u001b[39m] \u001b[39m!=\u001b[39m \u001b[39mself\u001b[39m\u001b[39m.\u001b[39m_k:\n\u001b[1;32m     58\u001b[0m         \u001b[39mraise\u001b[39;00m \u001b[39mValueError\u001b[39;00m(\n\u001b[1;32m     59\u001b[0m             \u001b[39mf\u001b[39m\u001b[39m\"\u001b[39m\u001b[39mMessage must have \u001b[39m\u001b[39m{\u001b[39;00m\u001b[39mself\u001b[39m\u001b[39m.\u001b[39m_k\u001b[39m}\u001b[39;00m\u001b[39m bits, but has \u001b[39m\u001b[39m{\u001b[39;00mmessage\u001b[39m.\u001b[39mshape[\u001b[39m0\u001b[39m]\u001b[39m}\u001b[39;00m\u001b[39m bits\u001b[39m\u001b[39m\"\u001b[39m)\n",
      "File \u001b[0;32m~/Documents/UNI/M.Sc Business Administration and Data Science/Semester 1/PROGRAMMING & LIN ALG/Final Assignment - Foundations/02_HammingCodes/hamming.py:224\u001b[0m, in \u001b[0;36mHammingCode._validate_binary\u001b[0;34m(self, arg)\u001b[0m\n\u001b[1;32m    215\u001b[0m \u001b[39m\"\"\"Validates that the given argument is a BinaryMessage.\u001b[39;00m\n\u001b[1;32m    216\u001b[0m \n\u001b[1;32m    217\u001b[0m \u001b[39mArgs:\u001b[39;00m\n\u001b[0;32m   (...)\u001b[0m\n\u001b[1;32m    221\u001b[0m \u001b[39m    ndarray: The argument as a BinaryMessage.\u001b[39;00m\n\u001b[1;32m    222\u001b[0m \u001b[39m\"\"\"\u001b[39;00m\n\u001b[1;32m    223\u001b[0m \u001b[39mif\u001b[39;00m \u001b[39mnot\u001b[39;00m \u001b[39misinstance\u001b[39m(arg, BinaryMessage):\n\u001b[0;32m--> 224\u001b[0m     arg \u001b[39m=\u001b[39m BinaryMessage(arg)\n\u001b[1;32m    225\u001b[0m \u001b[39mreturn\u001b[39;00m arg\n",
      "File \u001b[0;32m~/Documents/UNI/M.Sc Business Administration and Data Science/Semester 1/PROGRAMMING & LIN ALG/Final Assignment - Foundations/02_HammingCodes/models.py:16\u001b[0m, in \u001b[0;36mBinaryMessage.__new__\u001b[0;34m(cls, input_array)\u001b[0m\n\u001b[1;32m     14\u001b[0m obj \u001b[39m=\u001b[39m np\u001b[39m.\u001b[39masarray(input_array)\u001b[39m.\u001b[39mastype(\u001b[39mint\u001b[39m)\u001b[39m.\u001b[39mview(\u001b[39mcls\u001b[39m)\n\u001b[1;32m     15\u001b[0m \u001b[39mif\u001b[39;00m \u001b[39mnot\u001b[39;00m np\u001b[39m.\u001b[39mall(np\u001b[39m.\u001b[39misin(obj, [\u001b[39m0\u001b[39m, \u001b[39m1\u001b[39m])):\n\u001b[0;32m---> 16\u001b[0m     \u001b[39mraise\u001b[39;00m \u001b[39mValueError\u001b[39;00m(\u001b[39m\"\u001b[39m\u001b[39mArray must contain only 0s and 1s\u001b[39m\u001b[39m\"\u001b[39m)\n\u001b[1;32m     17\u001b[0m \u001b[39mreturn\u001b[39;00m obj\n",
      "\u001b[0;31mValueError\u001b[0m: Array must contain only 0s and 1s"
     ]
    }
   ],
   "source": [
    "# Encoding a non-valid message: not binary\n",
    "\n",
    "h.encode([1,2,3])"
   ]
  },
  {
   "cell_type": "code",
   "execution_count": 5,
   "metadata": {},
   "outputs": [
    {
     "ename": "ValueError",
     "evalue": "Message must have 4 bits, but has 6 bits",
     "output_type": "error",
     "traceback": [
      "\u001b[0;31m---------------------------------------------------------------------------\u001b[0m",
      "\u001b[0;31mValueError\u001b[0m                                Traceback (most recent call last)",
      "\u001b[1;32m/Users/vincenthaunberger/Documents/UNI/M.Sc Business Administration and Data Science/Semester 1/PROGRAMMING & LIN ALG/Final Assignment - Foundations/02_HammingCodes/main.ipynb Cell 10\u001b[0m line \u001b[0;36m<cell line: 2>\u001b[0;34m()\u001b[0m\n\u001b[1;32m      <a href='vscode-notebook-cell:/Users/vincenthaunberger/Documents/UNI/M.Sc%20Business%20Administration%20and%20Data%20Science/Semester%201/PROGRAMMING%20%26%20LIN%20ALG/Final%20Assignment%20-%20Foundations/02_HammingCodes/main.ipynb#X42sZmlsZQ%3D%3D?line=0'>1</a>\u001b[0m \u001b[39m# Encoding a non-valid message: not 4 bits\u001b[39;00m\n\u001b[0;32m----> <a href='vscode-notebook-cell:/Users/vincenthaunberger/Documents/UNI/M.Sc%20Business%20Administration%20and%20Data%20Science/Semester%201/PROGRAMMING%20%26%20LIN%20ALG/Final%20Assignment%20-%20Foundations/02_HammingCodes/main.ipynb#X42sZmlsZQ%3D%3D?line=1'>2</a>\u001b[0m h\u001b[39m.\u001b[39;49mencode([\u001b[39m1\u001b[39;49m,\u001b[39m0\u001b[39;49m,\u001b[39m1\u001b[39;49m,\u001b[39m1\u001b[39;49m,\u001b[39m1\u001b[39;49m,\u001b[39m1\u001b[39;49m])\n",
      "File \u001b[0;32m~/Documents/UNI/M.Sc Business Administration and Data Science/Semester 1/PROGRAMMING & LIN ALG/Final Assignment - Foundations/02_HammingCodes/hamming.py:58\u001b[0m, in \u001b[0;36mHammingCode.encode\u001b[0;34m(self, message)\u001b[0m\n\u001b[1;32m     56\u001b[0m message \u001b[39m=\u001b[39m \u001b[39mself\u001b[39m\u001b[39m.\u001b[39m_validate_binary(message)\n\u001b[1;32m     57\u001b[0m \u001b[39mif\u001b[39;00m message\u001b[39m.\u001b[39mshape[\u001b[39m0\u001b[39m] \u001b[39m!=\u001b[39m \u001b[39mself\u001b[39m\u001b[39m.\u001b[39m_k:\n\u001b[0;32m---> 58\u001b[0m     \u001b[39mraise\u001b[39;00m \u001b[39mValueError\u001b[39;00m(\n\u001b[1;32m     59\u001b[0m         \u001b[39mf\u001b[39m\u001b[39m\"\u001b[39m\u001b[39mMessage must have \u001b[39m\u001b[39m{\u001b[39;00m\u001b[39mself\u001b[39m\u001b[39m.\u001b[39m_k\u001b[39m}\u001b[39;00m\u001b[39m bits, but has \u001b[39m\u001b[39m{\u001b[39;00mmessage\u001b[39m.\u001b[39mshape[\u001b[39m0\u001b[39m]\u001b[39m}\u001b[39;00m\u001b[39m bits\u001b[39m\u001b[39m\"\u001b[39m)\n\u001b[1;32m     60\u001b[0m codeword \u001b[39m=\u001b[39m np\u001b[39m.\u001b[39mdot(\u001b[39mself\u001b[39m\u001b[39m.\u001b[39m_G, message) \u001b[39m%\u001b[39m \u001b[39m2\u001b[39m\n\u001b[1;32m     61\u001b[0m \u001b[39mreturn\u001b[39;00m BinaryMessage(codeword)\n",
      "\u001b[0;31mValueError\u001b[0m: Message must have 4 bits, but has 6 bits"
     ]
    }
   ],
   "source": [
    "# Encoding a non-valid message: not 4 bits\n",
    "\n",
    "h.encode([1,0,1,1,1,1])"
   ]
  },
  {
   "cell_type": "markdown",
   "metadata": {},
   "source": [
    "To encode a message, the message vector is multiplied by the generator matrix (which is created when the hamming code class is instantiated)."
   ]
  },
  {
   "cell_type": "code",
   "execution_count": 6,
   "metadata": {},
   "outputs": [
    {
     "data": {
      "text/plain": [
       "BinaryMessage([1, 0, 1, 1, 0, 1, 0])"
      ]
     },
     "execution_count": 6,
     "metadata": {},
     "output_type": "execute_result"
    }
   ],
   "source": [
    "# Encoding a valid message\n",
    "\n",
    "codeword = h.encode(message)\n",
    "codeword"
   ]
  },
  {
   "cell_type": "code",
   "execution_count": 7,
   "metadata": {},
   "outputs": [
    {
     "data": {
      "text/plain": [
       "BinaryMessage([1, 0, 1, 1, 0, 1, 0])"
      ]
     },
     "execution_count": 7,
     "metadata": {},
     "output_type": "execute_result"
    }
   ],
   "source": [
    "# The check_correct method checks if there are any errors in the codeword. In this case\n",
    "# there are no errors.\n",
    "\n",
    "codeword = h.check_correct(codeword)\n",
    "codeword"
   ]
  },
  {
   "cell_type": "code",
   "execution_count": 8,
   "metadata": {},
   "outputs": [
    {
     "ename": "BitError",
     "evalue": "1- or 2-bit errors detected! Cannot correct in mode `detect`.",
     "output_type": "error",
     "traceback": [
      "\u001b[0;31m---------------------------------------------------------------------------\u001b[0m",
      "\u001b[0;31mBitError\u001b[0m                                  Traceback (most recent call last)",
      "\u001b[1;32m/Users/vincenthaunberger/Documents/UNI/M.Sc Business Administration and Data Science/Semester 1/PROGRAMMING & LIN ALG/Final Assignment - Foundations/02_HammingCodes/main.ipynb Cell 14\u001b[0m line \u001b[0;36m<cell line: 4>\u001b[0;34m()\u001b[0m\n\u001b[1;32m      <a href='vscode-notebook-cell:/Users/vincenthaunberger/Documents/UNI/M.Sc%20Business%20Administration%20and%20Data%20Science/Semester%201/PROGRAMMING%20%26%20LIN%20ALG/Final%20Assignment%20-%20Foundations/02_HammingCodes/main.ipynb#X45sZmlsZQ%3D%3D?line=0'>1</a>\u001b[0m \u001b[39m# The check_correct method checks if there are any errors in the codeword. In this case\u001b[39;00m\n\u001b[1;32m      <a href='vscode-notebook-cell:/Users/vincenthaunberger/Documents/UNI/M.Sc%20Business%20Administration%20and%20Data%20Science/Semester%201/PROGRAMMING%20%26%20LIN%20ALG/Final%20Assignment%20-%20Foundations/02_HammingCodes/main.ipynb#X45sZmlsZQ%3D%3D?line=1'>2</a>\u001b[0m \u001b[39m# there is an error. The error is not corrected, but an `BitError` exception is raised.\u001b[39;00m\n\u001b[1;32m      <a href='vscode-notebook-cell:/Users/vincenthaunberger/Documents/UNI/M.Sc%20Business%20Administration%20and%20Data%20Science/Semester%201/PROGRAMMING%20%26%20LIN%20ALG/Final%20Assignment%20-%20Foundations/02_HammingCodes/main.ipynb#X45sZmlsZQ%3D%3D?line=2'>3</a>\u001b[0m codeword \u001b[39m=\u001b[39m h\u001b[39m.\u001b[39msimulate_1bit_flip(codeword)\n\u001b[0;32m----> <a href='vscode-notebook-cell:/Users/vincenthaunberger/Documents/UNI/M.Sc%20Business%20Administration%20and%20Data%20Science/Semester%201/PROGRAMMING%20%26%20LIN%20ALG/Final%20Assignment%20-%20Foundations/02_HammingCodes/main.ipynb#X45sZmlsZQ%3D%3D?line=3'>4</a>\u001b[0m codeword \u001b[39m=\u001b[39m h\u001b[39m.\u001b[39;49mcheck_correct(codeword)\n\u001b[1;32m      <a href='vscode-notebook-cell:/Users/vincenthaunberger/Documents/UNI/M.Sc%20Business%20Administration%20and%20Data%20Science/Semester%201/PROGRAMMING%20%26%20LIN%20ALG/Final%20Assignment%20-%20Foundations/02_HammingCodes/main.ipynb#X45sZmlsZQ%3D%3D?line=4'>5</a>\u001b[0m codeword\n",
      "File \u001b[0;32m~/Documents/UNI/M.Sc Business Administration and Data Science/Semester 1/PROGRAMMING & LIN ALG/Final Assignment - Foundations/02_HammingCodes/hamming.py:89\u001b[0m, in \u001b[0;36mHammingCode.check_correct\u001b[0;34m(self, codeword)\u001b[0m\n\u001b[1;32m     87\u001b[0m \u001b[39mif\u001b[39;00m error_exists:\n\u001b[1;32m     88\u001b[0m     \u001b[39mif\u001b[39;00m \u001b[39mself\u001b[39m\u001b[39m.\u001b[39mmode \u001b[39m==\u001b[39m \u001b[39m\"\u001b[39m\u001b[39mdetect\u001b[39m\u001b[39m\"\u001b[39m:\n\u001b[0;32m---> 89\u001b[0m         \u001b[39mraise\u001b[39;00m BitError(\n\u001b[1;32m     90\u001b[0m             \u001b[39m\"\u001b[39m\u001b[39m1- or 2-bit errors detected! Cannot correct in mode `detect`.\u001b[39m\u001b[39m\"\u001b[39m)\n\u001b[1;32m     91\u001b[0m     error_position \u001b[39m=\u001b[39m \u001b[39mself\u001b[39m\u001b[39m.\u001b[39m_get_error_position(error_syndrome)\n\u001b[1;32m     92\u001b[0m     codeword \u001b[39m=\u001b[39m \u001b[39mself\u001b[39m\u001b[39m.\u001b[39m_correct_error(codeword, error_position)\n",
      "\u001b[0;31mBitError\u001b[0m: 1- or 2-bit errors detected! Cannot correct in mode `detect`."
     ]
    }
   ],
   "source": [
    "# The check_correct method checks if there are any errors in the codeword. In this case\n",
    "# there is an error. The error is not corrected, but an `BitError` exception is raised.\n",
    "\n",
    "codeword = h.simulate_1bit_flip(codeword)\n",
    "codeword = h.check_correct(codeword)\n",
    "codeword"
   ]
  },
  {
   "cell_type": "markdown",
   "metadata": {},
   "source": [
    "## 2. Decode\n",
    "\n",
    "Create a decoder program in Python, which, when given a 7-bit vector codeword, returns the original 4-bit vector word. That is, if we are given a 4-bit word \\( w \\), and we apply our encoder to return a codeword $ c_w = G * w $, and then we apply the decoder matrix (R) (fig. 3) to $ c_w $, then it should return the original word, such that $ R * c_w = w $."
   ]
  },
  {
   "cell_type": "code",
   "execution_count": 9,
   "metadata": {},
   "outputs": [],
   "source": [
    "# Lets try to correct the error; switching to \"correct\" mode\n",
    "\n",
    "h = HammingCode(message_bits=4, mode=\"correct\")\n",
    "codeword_corrected = h.check_correct(codeword)"
   ]
  },
  {
   "cell_type": "code",
   "execution_count": 11,
   "metadata": {},
   "outputs": [
    {
     "data": {
      "text/plain": [
       "BinaryMessage([1, 0, 1, 1])"
      ]
     },
     "execution_count": 11,
     "metadata": {},
     "output_type": "execute_result"
    }
   ],
   "source": [
    "# The corrected codeword is now decoded to retrieve the original message. The recovered\n",
    "# message is in fact identical to the original message.\n",
    "\n",
    "message_recovered = h.decode(codeword_corrected)\n",
    "assert np.array_equal(message, message_recovered)\n",
    "message_recovered"
   ]
  },
  {
   "cell_type": "markdown",
   "metadata": {},
   "source": [
    "## 3. Error correction and detection\n",
    "\n",
    "Test your code by creating a few 4-bit vectors and running encode and then decode to check if you end up with the original 4-bit vector. Also, test your code with some errors and see if the parity check can identify the errors if so, to what extent."
   ]
  },
  {
   "cell_type": "markdown",
   "metadata": {},
   "source": [
    "In the following cells the, the process of the hamming code implementation is shown. In the first cell, we simulate only one bit errors, assuming that two or more bit errors are not possible. For a number of tests a random message is generated, then decoded into a codeword using the hamming implementation and then a random bit is flipped. The hamming implementation will find that error and correct it as well as decode the codeword back into the original message. An assert statement checks if the decoded message equals the original message."
   ]
  },
  {
   "cell_type": "code",
   "execution_count": 20,
   "metadata": {},
   "outputs": [
    {
     "name": "stdout",
     "output_type": "stream",
     "text": [
      "Message:      [1 0 1 0]\n",
      "Codeword:     [1 0 1 0 1 0 1]\n",
      "Transmitted:  [0 0 1 0 1 0 1]\n",
      "Recovered:    [1 0 1 0]\n",
      "____________________________________\n",
      "Message:      [1 1 1 1]\n",
      "Codeword:     [1 1 1 1 1 1 1]\n",
      "Transmitted:  [1 1 1 1 0 1 1]\n",
      "Recovered:    [1 1 1 1]\n",
      "____________________________________\n",
      "Message:      [0 1 0 1]\n",
      "Codeword:     [0 1 0 1 0 1 0]\n",
      "Transmitted:  [1 1 0 1 0 1 0]\n",
      "Recovered:    [0 1 0 1]\n",
      "____________________________________\n",
      "Message:      [0 0 1 0]\n",
      "Codeword:     [0 0 1 0 1 1 0]\n",
      "Transmitted:  [0 0 1 0 0 1 0]\n",
      "Recovered:    [0 0 1 0]\n",
      "____________________________________\n",
      "Message:      [0 1 1 0]\n",
      "Codeword:     [0 1 1 0 0 1 1]\n",
      "Transmitted:  [1 1 1 0 0 1 1]\n",
      "Recovered:    [0 1 1 0]\n",
      "____________________________________\n"
     ]
    }
   ],
   "source": [
    "# 1-bit errors can be detected and corrected, hence we set the mode to \"correct\"\n",
    "h = HammingCode(message_bits=4, mode=\"correct\")\n",
    "n_tests = 5\n",
    "\n",
    "for i in range(n_tests):\n",
    "    # generate random message\n",
    "    message = np.random.randint(0, 2, 4)\n",
    "    codeword = h.encode(message)\n",
    "    print(\"Message:     \", message)\n",
    "    print(\"Codeword:    \", codeword)\n",
    "\n",
    "    # similuate transmission errors: only one bit is flipped\n",
    "    codeword_transmitted = h.simulate_1bit_flip(codeword)\n",
    "    print(\"Transmitted: \", codeword_transmitted)\n",
    "\n",
    "    # check for errors and correct them if possible\n",
    "    codeword_checked = h.check_correct(codeword_transmitted)\n",
    "    message_recovered = h.decode(codeword_checked)\n",
    "    print(\"Recovered:   \", message_recovered)\n",
    "    print(\"_\" * 36)\n",
    "    assert np.array_equal(message, message_recovered)"
   ]
  },
  {
   "cell_type": "markdown",
   "metadata": {},
   "source": [
    "In the next cell, we do not assume anymore that only one bit errors are possible. On the likelihood of such errors, we need to decide whether to correct or only detect the errors. In this case The errors are only detected. The pipeline works as before: a random message is encoded, a bit flip is simulated and the implementation checks for errors. If there is an error it will raise an Exception. "
   ]
  },
  {
   "cell_type": "code",
   "execution_count": 25,
   "metadata": {},
   "outputs": [
    {
     "name": "stdout",
     "output_type": "stream",
     "text": [
      "Message:      [1 1 0 1]\n",
      "Codeword:     [1 1 0 1 0 0 1]\n",
      "Transmitted:  [1 1 1 1 0 0 1]\n",
      "Number of errors: 1\n",
      "Error detected: 1- or 2-bit errors detected! Cannot correct in mode `detect`.\n",
      "____________________________________\n",
      "Message:      [0 1 1 0]\n",
      "Codeword:     [0 1 1 0 0 1 1]\n",
      "Transmitted:  [0 0 1 0 0 1 1]\n",
      "Number of errors: 1\n",
      "Error detected: 1- or 2-bit errors detected! Cannot correct in mode `detect`.\n",
      "____________________________________\n",
      "Message:      [1 1 1 1]\n",
      "Codeword:     [1 1 1 1 1 1 1]\n",
      "Transmitted:  [1 1 1 1 1 1 1]\n",
      "Number of errors: 0\n",
      "No errors detected.\n",
      "____________________________________\n",
      "Message:      [0 1 1 0]\n",
      "Codeword:     [0 1 1 0 0 1 1]\n",
      "Transmitted:  [1 1 0 0 0 1 1]\n",
      "Number of errors: 2\n",
      "Error detected: 1- or 2-bit errors detected! Cannot correct in mode `detect`.\n",
      "____________________________________\n",
      "Message:      [1 0 1 1]\n",
      "Codeword:     [1 0 1 1 0 1 0]\n",
      "Transmitted:  [1 0 1 1 0 1 0]\n",
      "Number of errors: 0\n",
      "No errors detected.\n",
      "____________________________________\n"
     ]
    }
   ],
   "source": [
    "# 1- or 2-bit errors can be detected, but NOT corrected\n",
    "h = HammingCode(message_bits=4, mode=\"detect\")  # <- mode changed\n",
    "n_tests = 5\n",
    "\n",
    "for i in range(n_tests):\n",
    "    # generate random message\n",
    "    message = np.random.randint(0, 2, 4)\n",
    "    codeword = h.encode(message)\n",
    "    print(\"Message:     \", message)\n",
    "    print(\"Codeword:    \", codeword)\n",
    "\n",
    "    # similuate transmission errors: 0, 1 or 2 bits are flipped\n",
    "    n_errors = np.random.randint(0, 3)\n",
    "    if n_errors == 1:\n",
    "        codeword_transmitted = h.simulate_1bit_flip(codeword)\n",
    "    elif n_errors == 2:\n",
    "        codeword_transmitted = h.simulate_2bit_flip(codeword)\n",
    "    else:\n",
    "        codeword_transmitted = codeword\n",
    "    print(\"Transmitted: \", codeword_transmitted)\n",
    "\n",
    "    # check for errors. If errors are detected, an exception is raised\n",
    "    print(f\"Number of errors: {n_errors}\")\n",
    "    try:\n",
    "        codeword_checked = h.check_correct(codeword_transmitted)\n",
    "        print(\"No errors detected.\")\n",
    "    except BitError as e:\n",
    "        print(f\"Error detected: {e}\")\n",
    "    print(\"_\" * 36)"
   ]
  },
  {
   "cell_type": "markdown",
   "metadata": {},
   "source": [
    "# Use-Case: Transmission over Noisy Channel"
   ]
  },
  {
   "cell_type": "markdown",
   "metadata": {},
   "source": [
    "In the following we implemented a simple use-case, where a string message is decoded into a bit list representation and sent trough a noisy channel. Using hamming_protection the message reaches the recipient in a intact state, whereas without the hamming protection the sentence is destroyed."
   ]
  },
  {
   "cell_type": "markdown",
   "metadata": {},
   "source": [
    "### Assumption: only 1-bit errors possible"
   ]
  },
  {
   "cell_type": "code",
   "execution_count": 37,
   "metadata": {},
   "outputs": [],
   "source": [
    "# Set a message to transmit.\n",
    "message = \"Hello World! I will transmit this message now. I hope it will arrive correctly.\"\n",
    "\n",
    "# Activate hamming protection or not. If activated, the message will be encoded and\n",
    "# corrected using hamming codes. If deactivated, the message will be transmitted as is\n",
    "# and will likely contain errors.\n",
    "hamming_protection = True\n",
    "\n",
    "# Set the length of the packages. The message will be split into packages of this length.\n",
    "# A usual length is 8. A shorter length protects the message to a higher degree, but also\n",
    "# increases the overhead (reduced the code-rate or efficiency).\n",
    "message_length = 8\n",
    "\n",
    "# Set the probability of a bit flip. If hamming protection is activated, the probability\n",
    "# is not relevant, since the hamming code can correct single bit flips.\n",
    "# Note: we assume that there is no more than one bit flip per package.\n",
    "error_probability = 0.1"
   ]
  },
  {
   "cell_type": "code",
   "execution_count": 38,
   "metadata": {},
   "outputs": [
    {
     "name": "stdout",
     "output_type": "stream",
     "text": [
      "Message:      Hello World! I will transmit this message now. I hope it will arrive correctly.\n",
      "Nb Errors:    6\n",
      "Transmitted:  Hello World! I will transmit this message now. I hope it will arrive correctly.\n"
     ]
    }
   ],
   "source": [
    "print(\"Message:      \" + message)\n",
    "\n",
    "message_encoded = str2bit(message)\n",
    "binary_list, padding_needed = pad_last_chunk(message_encoded, message_length) # create binary\n",
    "message_binary = list_to_chunks(binary_list, message_length)\n",
    "\n",
    "if hamming_protection:\n",
    "    h = HammingCode(message_length, mode=\"correct\")\n",
    "    message_binary_encoded = []\n",
    "    for row in message_binary:\n",
    "        message_binary_encoded.append(h.encode(np.array(row)))\n",
    "    message_binary = np.array(message_binary_encoded)\n",
    "\n",
    "# simulate noise\n",
    "error = generate_single_bit_error(BinaryMessage(message_binary), error_probability)\n",
    "packages_transmitted = (message_binary + error) % 2\n",
    "nb_errors = np.count_nonzero(error)\n",
    "print(\"Nb Errors:   \", nb_errors)\n",
    "\n",
    "if hamming_protection:\n",
    "    message_binary_decoded = []\n",
    "    for row in packages_transmitted:\n",
    "        corrected = h.check_correct(np.array(row))\n",
    "        message_binary_decoded.append(h.decode(corrected))\n",
    "    packages_transmitted = np.array(message_binary_decoded)\n",
    "message_flat = chunks_to_list(packages_transmitted)\n",
    "message_flat = message_flat[:(None if padding_needed == 0 else -padding_needed)]\n",
    "\n",
    "print(\"Transmitted: \", bit2str(message_flat))\n",
    "\n",
    "assert message == bit2str(message_flat), \"Message was not transmitted correctly!\""
   ]
  },
  {
   "cell_type": "markdown",
   "metadata": {},
   "source": [
    "### Multi bit errors"
   ]
  },
  {
   "cell_type": "markdown",
   "metadata": {},
   "source": [
    "In the following cell, we do not assume that there are only one bit errors anymore. We set the hamming code mode to 'detect' to be able to detect 2 bit errors as well. Now we are not able to correct errors any more. In cases where errors are very rare and our package size is relatively small, we might risk try to correct errors and eventually not detect 2-bit errors."
   ]
  },
  {
   "cell_type": "code",
   "execution_count": 39,
   "metadata": {},
   "outputs": [],
   "source": [
    "# Set a message to transmit.\n",
    "message = \"Hello World! I will transmit this message now. I hope it will arrive correctly.\"\n",
    "\n",
    "# Activate hamming protection or not.\n",
    "hamming_protection = True\n",
    "\n",
    "# Set the length of the packages\n",
    "message_length = 8\n",
    "\n",
    "# Set the probability of a bit flip\n",
    "error_probability = 0.01\n",
    "\n",
    "# Now we dont assume that there is only one bit flip per package. Depending on\n",
    "# how probable errors are, we need to decide if we want to correct errors or only detect\n",
    "# them. If we want to correct errors, we might get incorrect messages, because we cannot\n",
    "# detect more than 1 bit errors. If we only want to detect errors, we can detect, but not\n",
    "# correct, up to 2-bit errors per package. Set mode to \"correct\" or \"detect\" accordingly.\n",
    "h = HammingCode(message_length, mode=\"detect\")\n",
    "\n",
    "\n",
    "# NOTE: in the above cenario, a good solution is reducing the package size. Using a\n",
    "# package size of 4, the probability of 2-bit errors per package is much lower. Using the\n",
    "# mode 'correct' in this case means that we will be able to transmit a correct message in\n",
    "# most cases. It will not promise that the message will be transmitted correctly, but it\n",
    "# is more likely. Just try it out :)\n",
    "\n",
    "# message_length = 4\n",
    "# h = HammingCode(message_length, mode=\"correct\")"
   ]
  },
  {
   "cell_type": "code",
   "execution_count": 41,
   "metadata": {},
   "outputs": [
    {
     "name": "stdout",
     "output_type": "stream",
     "text": [
      "Message:      Hello World! I will transmit this message now. I hope it will arrive correctly.\n",
      "Nb Errors:    9\n",
      "Error detected: 1- or 2-bit errors detected! Cannot correct in mode `detect`.\n",
      "Error detected: 1- or 2-bit errors detected! Cannot correct in mode `detect`.\n",
      "Error detected: 1- or 2-bit errors detected! Cannot correct in mode `detect`.\n",
      "Error detected: 1- or 2-bit errors detected! Cannot correct in mode `detect`.\n",
      "Error detected: 1- or 2-bit errors detected! Cannot correct in mode `detect`.\n",
      "Error detected: 1- or 2-bit errors detected! Cannot correct in mode `detect`.\n",
      "Error detected: 1- or 2-bit errors detected! Cannot correct in mode `detect`.\n",
      "Error detected: 1- or 2-bit errors detected! Cannot correct in mode `detect`.\n",
      "Transmitted:  Hello World! I`sill transmit this\u0000message nou. I hope it will arrive correctly\u000e\n"
     ]
    },
    {
     "ename": "AssertionError",
     "evalue": "Message was not transmitted correctly!",
     "output_type": "error",
     "traceback": [
      "\u001b[0;31m---------------------------------------------------------------------------\u001b[0m",
      "\u001b[0;31mAssertionError\u001b[0m                            Traceback (most recent call last)",
      "\u001b[1;32m/Users/vincenthaunberger/Documents/UNI/M.Sc Business Administration and Data Science/Semester 1/PROGRAMMING & LIN ALG/Final Assignment - Foundations/02_HammingCodes/main.ipynb Cell 31\u001b[0m line \u001b[0;36m<cell line: 33>\u001b[0;34m()\u001b[0m\n\u001b[1;32m     <a href='vscode-notebook-cell:/Users/vincenthaunberger/Documents/UNI/M.Sc%20Business%20Administration%20and%20Data%20Science/Semester%201/PROGRAMMING%20%26%20LIN%20ALG/Final%20Assignment%20-%20Foundations/02_HammingCodes/main.ipynb#X21sZmlsZQ%3D%3D?line=28'>29</a>\u001b[0m message_flat \u001b[39m=\u001b[39m message_flat[:(\u001b[39mNone\u001b[39;00m \u001b[39mif\u001b[39;00m padding_needed \u001b[39m==\u001b[39m \u001b[39m0\u001b[39m \u001b[39melse\u001b[39;00m \u001b[39m-\u001b[39mpadding_needed)]\n\u001b[1;32m     <a href='vscode-notebook-cell:/Users/vincenthaunberger/Documents/UNI/M.Sc%20Business%20Administration%20and%20Data%20Science/Semester%201/PROGRAMMING%20%26%20LIN%20ALG/Final%20Assignment%20-%20Foundations/02_HammingCodes/main.ipynb#X21sZmlsZQ%3D%3D?line=30'>31</a>\u001b[0m \u001b[39mprint\u001b[39m(\u001b[39m\"\u001b[39m\u001b[39mTransmitted: \u001b[39m\u001b[39m\"\u001b[39m, bit2str(message_flat))\n\u001b[0;32m---> <a href='vscode-notebook-cell:/Users/vincenthaunberger/Documents/UNI/M.Sc%20Business%20Administration%20and%20Data%20Science/Semester%201/PROGRAMMING%20%26%20LIN%20ALG/Final%20Assignment%20-%20Foundations/02_HammingCodes/main.ipynb#X21sZmlsZQ%3D%3D?line=32'>33</a>\u001b[0m \u001b[39massert\u001b[39;00m message \u001b[39m==\u001b[39m bit2str(message_flat), \u001b[39m\"\u001b[39m\u001b[39mMessage was not transmitted correctly!\u001b[39m\u001b[39m\"\u001b[39m\n",
      "\u001b[0;31mAssertionError\u001b[0m: Message was not transmitted correctly!"
     ]
    }
   ],
   "source": [
    "print(\"Message:      \" + message)\n",
    "message_encoded = str2bit(message)\n",
    "binary_list, padding_needed = pad_last_chunk(message_encoded, message_length)\n",
    "message_binary = list_to_chunks(binary_list, message_length)\n",
    "\n",
    "if hamming_protection:\n",
    "    message_binary_encoded = []\n",
    "    for row in message_binary:\n",
    "        message_binary_encoded.append(h.encode(np.array(row)))\n",
    "    message_binary = np.array(message_binary_encoded)\n",
    "\n",
    "# simulate noise\n",
    "error = generate_multi_bit_error(BinaryMessage(message_binary), error_probability)\n",
    "packages_transmitted = (message_binary + error) % 2\n",
    "nb_errors = np.count_nonzero(error)\n",
    "print(\"Nb Errors:   \", nb_errors)\n",
    "\n",
    "if hamming_protection:\n",
    "    message_binary_decoded = []\n",
    "    for row in packages_transmitted:\n",
    "        try:\n",
    "            corrected = h.check_correct(np.array(row))\n",
    "        except BitError as e:\n",
    "            print(f\"Error detected: {e}\")\n",
    "            corrected = row\n",
    "        message_binary_decoded.append(h.decode(corrected))\n",
    "    packages_transmitted = np.array(message_binary_decoded)\n",
    "message_flat = chunks_to_list(packages_transmitted)\n",
    "message_flat = message_flat[:(None if padding_needed == 0 else -padding_needed)]\n",
    "\n",
    "print(\"Transmitted: \", bit2str(message_flat))\n",
    "\n",
    "assert message == bit2str(message_flat), \"Message was not transmitted correctly!\""
   ]
  }
 ],
 "metadata": {
  "kernelspec": {
   "display_name": "ds_conda",
   "language": "python",
   "name": "python3"
  },
  "language_info": {
   "codemirror_mode": {
    "name": "ipython",
    "version": 3
   },
   "file_extension": ".py",
   "mimetype": "text/x-python",
   "name": "python",
   "nbconvert_exporter": "python",
   "pygments_lexer": "ipython3",
   "version": "3.10.6"
  },
  "orig_nbformat": 4
 },
 "nbformat": 4,
 "nbformat_minor": 2
}
